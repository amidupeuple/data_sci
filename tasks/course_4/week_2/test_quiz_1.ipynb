{
 "cells": [
  {
   "cell_type": "code",
   "execution_count": 1,
   "metadata": {
    "collapsed": true
   },
   "outputs": [],
   "source": [
    "import numpy as np"
   ]
  },
  {
   "cell_type": "code",
   "execution_count": null,
   "metadata": {
    "collapsed": true
   },
   "outputs": [],
   "source": [
    "mean_0 = 9.5\n",
    "dev_0 = 0.4\n",
    "n1 = 160\n",
    "mean_1 = 9.57\n",
    "\n",
    "#HO: средний уровень кальция по популяции не отличается от среднего \"вообще\"\n",
    "#H1: средний уровень кальция отличается по популяции отличается\n",
    "#p_val - ?\n",
    "\n",
    "#X1 - X0: выборки независимые\n",
    "\n",
    "Z = (mean_1 - mean__0) / np.sqrt((dev_1))\n"
   ]
  }
 ],
 "metadata": {
  "anaconda-cloud": {},
  "kernelspec": {
   "display_name": "Python [default]",
   "language": "python",
   "name": "python2"
  },
  "language_info": {
   "codemirror_mode": {
    "name": "ipython",
    "version": 2
   },
   "file_extension": ".py",
   "mimetype": "text/x-python",
   "name": "python",
   "nbconvert_exporter": "python",
   "pygments_lexer": "ipython2",
   "version": "2.7.13"
  }
 },
 "nbformat": 4,
 "nbformat_minor": 1
}
