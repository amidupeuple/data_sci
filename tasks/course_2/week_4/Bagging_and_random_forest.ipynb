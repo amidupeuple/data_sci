{
 "cells": [
  {
   "cell_type": "code",
<<<<<<< HEAD
   "execution_count": 41,
=======
   "execution_count": 1,
>>>>>>> c813b9241f346474ae71f8e402caea40f381d44d
   "metadata": {
    "collapsed": false
   },
   "outputs": [
    {
     "ename": "ImportError",
     "evalue": "No module named model_selection",
     "output_type": "error",
     "traceback": [
      "\u001b[0;31m---------------------------------------------------------------------------\u001b[0m",
      "\u001b[0;31mImportError\u001b[0m                               Traceback (most recent call last)",
      "\u001b[0;32m<ipython-input-41-d80e9bc28f45>\u001b[0m in \u001b[0;36m<module>\u001b[0;34m()\u001b[0m\n\u001b[1;32m      1\u001b[0m \u001b[1;32mfrom\u001b[0m \u001b[0msklearn\u001b[0m\u001b[1;33m.\u001b[0m\u001b[0mdatasets\u001b[0m \u001b[1;32mimport\u001b[0m \u001b[0mload_digits\u001b[0m\u001b[1;33m\u001b[0m\u001b[0m\n\u001b[1;32m      2\u001b[0m \u001b[1;32mimport\u001b[0m \u001b[0mnumpy\u001b[0m \u001b[1;32mas\u001b[0m \u001b[0mnp\u001b[0m\u001b[1;33m\u001b[0m\u001b[0m\n\u001b[0;32m----> 3\u001b[0;31m \u001b[1;32mfrom\u001b[0m \u001b[0msklearn\u001b[0m\u001b[1;33m.\u001b[0m\u001b[0mmodel_selection\u001b[0m \u001b[1;32mimport\u001b[0m \u001b[0mtrain_test_split\u001b[0m\u001b[1;33m\u001b[0m\u001b[0m\n\u001b[0m",
      "\u001b[0;31mImportError\u001b[0m: No module named model_selection"
     ]
    }
   ],
   "source": [
    "from sklearn.datasets import load_digits\n",
    "import numpy as np\n",
    "from sklearn.model_selection import train_test_split"
   ]
  },
  {
   "cell_type": "code",
   "execution_count": 2,
   "metadata": {
    "collapsed": true
   },
   "outputs": [],
   "source": [
    "digits = load_digits()\n",
    "X = digits.data\n",
    "y = digits.target"
   ]
  },
  {
   "cell_type": "code",
<<<<<<< HEAD
   "execution_count": 8,
   "metadata": {
    "collapsed": false
   },
   "outputs": [],
   "source": [
    "from sklearn.tree import DecisionTreeClassifier\n",
    "from sklearn.cross_validation import cross_val_score \n",
    "\n",
    "dt_classifier = DecisionTreeClassifier()\n",
    "scores = cross_val_score(dt_classifier, X, y, cv=10)"
   ]
  },
  {
   "cell_type": "code",
   "execution_count": 10,
   "metadata": {
    "collapsed": false
   },
   "outputs": [
    {
     "data": {
      "text/plain": [
       "0.82875132284378972"
      ]
     },
     "execution_count": 10,
     "metadata": {},
     "output_type": "execute_result"
    }
   ],
   "source": [
    "scores.mean()"
   ]
  },
  {
   "cell_type": "code",
   "execution_count": 11,
   "metadata": {
    "collapsed": false
   },
   "outputs": [
    {
     "data": {
      "text/plain": [
       "0.92713100485507471"
      ]
     },
     "execution_count": 11,
     "metadata": {},
     "output_type": "execute_result"
    }
   ],
   "source": [
    "from sklearn.ensemble import BaggingClassifier\n",
    "\n",
    "dt_est = DecisionTreeClassifier()\n",
    "baggingClassifier = BaggingClassifier(dt_est, n_estimators=100)\n",
    "scores = cross_val_score(baggingClassifier, X, y, cv=10)\n",
    "scores.mean()"
   ]
  },
  {
   "cell_type": "code",
   "execution_count": 14,
   "metadata": {
    "collapsed": false
   },
   "outputs": [
    {
     "data": {
      "text/plain": [
       "8.0"
      ]
     },
     "execution_count": 14,
     "metadata": {},
     "output_type": "execute_result"
    }
   ],
   "source": [
    "import numpy as np\n",
    "np.sqrt(X.shape[1])"
   ]
  },
  {
   "cell_type": "code",
   "execution_count": 20,
   "metadata": {
    "collapsed": false
   },
   "outputs": [
    {
     "name": "stdout",
     "output_type": "stream",
     "text": [
      "q= 8\n"
     ]
    },
    {
     "data": {
      "text/plain": [
       "0.92700530190029062"
      ]
     },
     "execution_count": 20,
     "metadata": {},
     "output_type": "execute_result"
    }
   ],
   "source": [
    "#dt_est = DecisionTreeClassifier(max_features=\"sqrt\")\n",
    "dt_est = DecisionTreeClassifier()\n",
    "print 'q=', int(np.sqrt(X.shape[1]))\n",
    "baggingClassifier = BaggingClassifier(dt_est, n_estimators=100, max_features=int(np.sqrt(X.shape[1])))\n",
    "scores = cross_val_score(baggingClassifier, X, y, cv=10)\n",
    "scores.mean()"
   ]
  },
  {
   "cell_type": "code",
   "execution_count": 21,
   "metadata": {
    "collapsed": false
   },
   "outputs": [
    {
     "data": {
      "text/plain": [
       "0.95167775431118096"
      ]
     },
     "execution_count": 21,
     "metadata": {},
     "output_type": "execute_result"
    }
   ],
   "source": [
    "dt_est = DecisionTreeClassifier(max_features=\"sqrt\")\n",
    "baggingClassifier = BaggingClassifier(dt_est, n_estimators=100)\n",
    "scores = cross_val_score(baggingClassifier, X, y, cv=10)\n",
    "scores.mean()"
   ]
  },
  {
   "cell_type": "code",
   "execution_count": 24,
   "metadata": {
    "collapsed": false
   },
   "outputs": [
    {
     "data": {
      "text/plain": [
       "0.9517393356942907"
      ]
     },
     "execution_count": 24,
     "metadata": {},
     "output_type": "execute_result"
    }
   ],
   "source": [
    "from sklearn.ensemble import RandomForestClassifier\n",
    "\n",
    "rf_classifier = RandomForestClassifier(n_estimators=100)\n",
    "rf_scores = cross_val_score(rf_classifier, X, y, cv=10)\n",
    "rf_scores.mean()"
   ]
  },
  {
   "cell_type": "code",
   "execution_count": 25,
   "metadata": {
    "collapsed": false
   },
   "outputs": [
    {
     "name": "stdout",
     "output_type": "stream",
     "text": [
      "Populating the interactive namespace from numpy and matplotlib\n"
     ]
    }
   ],
   "source": [
    "%pylab inline"
   ]
  },
  {
   "cell_type": "code",
   "execution_count": 32,
=======
   "execution_count": null,
>>>>>>> c813b9241f346474ae71f8e402caea40f381d44d
   "metadata": {
    "collapsed": true
   },
   "outputs": [],
   "source": [
<<<<<<< HEAD
    "def estimate(n):\n",
    "    rf_classifier = RandomForestClassifier(n_estimators=n)\n",
    "    rf_scores = cross_val_score(rf_classifier, X, y, cv=10)\n",
    "    return rf_scores.mean()\n",
    "\n",
    "n_trees = np.array([1, 5, 10, 15, 100, 200])\n",
    "n_scores = map(lambda n: estimate(n), n_trees)"
   ]
  },
  {
   "cell_type": "code",
   "execution_count": 34,
   "metadata": {
    "collapsed": false
   },
   "outputs": [
    {
     "name": "stdout",
     "output_type": "stream",
     "text": [
      "[0.75090871304106077, 0.88327578173768229, 0.91385592178604413, 0.92996957194305274, 0.95279733551968682, 0.95609278381644569]\n"
     ]
    },
    {
     "data": {
      "text/plain": [
       "(0.5, 1)"
      ]
     },
     "execution_count": 34,
     "metadata": {},
     "output_type": "execute_result"
    },
    {
     "data": {
      "image/png": "iVBORw0KGgoAAAANSUhEUgAAAhAAAAFdCAYAAABSLlSmAAAABHNCSVQICAgIfAhkiAAAAAlwSFlz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\nAAAASUVORK5CYII=\n",
      "text/plain": [
       "<matplotlib.figure.Figure at 0xadefe48>"
      ]
     },
     "metadata": {},
     "output_type": "display_data"
    }
   ],
   "source": [
    "pylab.grid(True)\n",
    "print n_scores\n",
    "pylab.plot(n_scores, n_trees, 'g-')\n",
    "pylab.ylim(0, 150)\n",
    "pylab.xlim(0.5, 1)"
   ]
  },
  {
   "cell_type": "code",
   "execution_count": 38,
   "metadata": {
    "collapsed": false
   },
   "outputs": [],
   "source": [
    "n_features = np.array([5, 10, 40, 50])\n",
    "\n",
    "def estimate(n):\n",
    "    rf_classifier = RandomForestClassifier(n_estimators=100, max_features=int(n))\n",
    "    rf_scores = cross_val_score(rf_classifier, X, y, cv=10)\n",
    "    return rf_scores.mean()\n",
    "\n",
    "n_scores = map(lambda n: estimate(n), n_features)"
   ]
  },
  {
   "cell_type": "code",
   "execution_count": 39,
   "metadata": {
    "collapsed": false
   },
   "outputs": [
    {
     "data": {
      "text/plain": [
       "[<matplotlib.lines.Line2D at 0x9d6b7b8>]"
      ]
     },
     "execution_count": 39,
     "metadata": {},
     "output_type": "execute_result"
    },
    {
     "data": {
      "image/png": "iVBORw0KGgoAAAANSUhEUgAAAhAAAAFkCAYAAABxWwLDAAAABHNCSVQICAgIfAhkiAAAAAlwSFlz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\n",
      "text/plain": [
       "<matplotlib.figure.Figure at 0x9dc56d8>"
      ]
     },
     "metadata": {},
     "output_type": "display_data"
    }
   ],
   "source": [
    "pylab.plot(n_scores, n_features, 'g-')\n",
    "#pylab.ylim(0, 150)\n",
    "#pylab.xlim(0.5, 1)"
   ]
  },
  {
   "cell_type": "code",
   "execution_count": 40,
   "metadata": {
    "collapsed": false
   },
   "outputs": [
    {
     "data": {
      "text/plain": [
       "0.91255421257391622"
      ]
     },
     "execution_count": 40,
     "metadata": {},
     "output_type": "execute_result"
    }
   ],
   "source": [
    "rf_classifier = RandomForestClassifier(n_estimators=100, max_depth=5)\n",
    "rf_scores = cross_val_score(rf_classifier, X, y, cv=10)\n",
    "rf_scores.mean()"
=======
    "from sklearn.tree import DecisionTreeClassifier\n",
    "dtClassifier = DecisionTreeClassifier()\n"
>>>>>>> c813b9241f346474ae71f8e402caea40f381d44d
   ]
  }
 ],
 "metadata": {
  "anaconda-cloud": {},
  "kernelspec": {
   "display_name": "Python [default]",
   "language": "python",
   "name": "python2"
  },
  "language_info": {
   "codemirror_mode": {
    "name": "ipython",
    "version": 2
   },
   "file_extension": ".py",
   "mimetype": "text/x-python",
   "name": "python",
   "nbconvert_exporter": "python",
   "pygments_lexer": "ipython2",
   "version": "2.7.12"
  }
 },
 "nbformat": 4,
 "nbformat_minor": 1
}
