{
 "cells": [
  {
   "cell_type": "markdown",
   "metadata": {},
   "source": [
    "# Линейная алгебра: сходство текстов и аппроксимация функций"
   ]
  },
  {
   "cell_type": "markdown",
   "metadata": {},
   "source": [
    "## Сходтство текстов"
   ]
  },
  {
   "cell_type": "code",
   "execution_count": 142,
   "metadata": {
    "collapsed": false
   },
   "outputs": [],
   "source": [
    "with open('sentences.txt', 'r') as f:\n",
    "    content = f.readlines()"
   ]
  },
  {
   "cell_type": "code",
   "execution_count": 143,
   "metadata": {
    "collapsed": false
   },
   "outputs": [],
   "source": [
    "content = [x.lower() for x in content]"
   ]
  },
  {
   "cell_type": "code",
   "execution_count": 144,
   "metadata": {
    "collapsed": false
   },
   "outputs": [],
   "source": [
    "import re\n",
    "words = []\n",
    "for s in content:\n",
    "    words.append(filter(None, re.split('[^a-z]', s)))"
   ]
  },
  {
   "cell_type": "code",
   "execution_count": 145,
   "metadata": {
    "collapsed": false
   },
   "outputs": [],
   "source": [
    "words_dict = {}\n",
    "for list_of_words in words:\n",
    "    for w in list_of_words:\n",
    "        if (words_dict.get(w) == None):\n",
    "            words_dict[w] = 1\n",
    "        else:\n",
    "            words_dict[w] = words_dict[w] + 1\n"
   ]
  },
  {
   "cell_type": "code",
   "execution_count": 146,
   "metadata": {
    "collapsed": false
   },
   "outputs": [
    {
     "data": {
      "text/plain": [
       "256"
      ]
     },
     "execution_count": 146,
     "metadata": {},
     "output_type": "execute_result"
    }
   ],
   "source": [
    "len(words_dict)\n"
   ]
  },
  {
   "cell_type": "code",
   "execution_count": 147,
   "metadata": {
    "collapsed": false
   },
   "outputs": [],
   "source": [
    "import numpy as np\n",
    "\n",
    "matrix = np.zeros((len(content), len(words_dict)), dtype=int)\n",
    "sorted_dict = sorted(words_dict)\n",
    "\n",
    "for i, sentence in enumerate(words):\n",
    "    for j, word in enumerate(sorted_dict):\n",
    "        number_of_occur = sentence.count(word)\n",
    "        matrix[i][j] = number_of_occur\n",
    "            \n"
   ]
  },
  {
   "cell_type": "code",
   "execution_count": 148,
   "metadata": {
    "collapsed": false
   },
   "outputs": [
    {
     "name": "stdout",
     "output_type": "stream",
     "text": [
      "[0.0, 0.95275444087384664, 0.86447381456421235, 0.89517151632780823, 0.77708871496985887, 0.94023856953328033, 0.7327387580875756, 0.92587506833388988, 0.88427248752843102, 0.90550888174769317, 0.83281653622739416, 0.88047713906656067, 0.83964325485254543, 0.87035925528956715, 0.87401184233025764, 0.94427217874246472, 0.84063618542208085, 0.95664450152379399, 0.94427217874246472, 0.88854435748492944, 0.84275727449171223, 0.82503644694405864, 0.22848325018954041]\n",
      "[0, 22, 6]\n"
     ]
    }
   ],
   "source": [
    "from scipy.spatial import distance\n",
    "cosines = []\n",
    "for s in matrix:\n",
    "    cosines.append(distance.cosine(matrix[0], s))\n",
    "coss = cosines[1:]   \n",
    "print cosines\n",
    "cos_dict = {}\n",
    "for i, cos in enumerate(cosines):\n",
    "    cos_dict[i] = cos\n",
    "\n",
    "result = []\n",
    "result.append(min(cos_dict, key=cos_dict.get))\n",
    "del cos_dict[result[0]]\n",
    "result.append(min(cos_dict, key=cos_dict.get))\n",
    "del cos_dict[result[1]]\n",
    "result.append(min(cos_dict, key=cos_dict.get))\n",
    "print result\n"
   ]
  },
  {
   "cell_type": "markdown",
   "metadata": {},
   "source": [
    "## Задача 2: аппроксимация функции\n"
   ]
  },
  {
   "cell_type": "code",
   "execution_count": 98,
   "metadata": {
    "collapsed": false
   },
   "outputs": [],
   "source": [
    "%matplotlib inline"
   ]
  },
  {
   "cell_type": "code",
   "execution_count": 149,
   "metadata": {
    "collapsed": true
   },
   "outputs": [],
   "source": [
    "def complicatedFunction(x):\n",
    "    f = (np.sin(x / 5) * np.exp(x / 10)) + (5 * np.exp(-x / 2))\n",
    "    return f"
   ]
  },
  {
   "cell_type": "code",
   "execution_count": 160,
   "metadata": {
    "collapsed": false
   },
   "outputs": [
    {
     "name": "stdout",
     "output_type": "stream",
     "text": [
      "f(1)=3.25221686527\n",
      "f(4)=1.74684594959\n",
      "f(8)=2.31617015905\n",
      "f(10)=2.505416407\n",
      "f(15)=0.635221419579\n"
     ]
    }
   ],
   "source": [
    "print('f(1)=' + str(complicatedFunction(1.)))\n",
    "print('f(4)=' + str(complicatedFunction(4.)))\n",
    "print('f(8)=' + str(complicatedFunction(8.)))\n",
    "print('f(10)=' + str(complicatedFunction(10.)))\n",
    "print('f(15)=' + str(complicatedFunction(15.)))"
   ]
  },
  {
   "cell_type": "code",
   "execution_count": 161,
   "metadata": {
    "collapsed": false
   },
   "outputs": [
    {
     "data": {
      "text/plain": [
       "array([ 3.43914511, -0.18692825])"
      ]
     },
     "execution_count": 161,
     "metadata": {},
     "output_type": "execute_result"
    }
   ],
   "source": [
    "a = np.array([[1., 1], [1, 15]])\n",
    "b = np.array([3.25221686527, 0.635221419579])\n",
    "result = scipy.linalg.solve(a, b)\n",
    "result"
   ]
  },
  {
   "cell_type": "code",
   "execution_count": 166,
   "metadata": {
    "collapsed": false
   },
   "outputs": [
    {
     "name": "stdout",
     "output_type": "stream",
     "text": [
      "[  0.    0.5   1.    1.5   2.    2.5   3.    3.5   4.    4.5   5.    5.5\n",
      "   6.    6.5   7.    7.5   8.    8.5   9.    9.5  10.   10.5  11.   11.5\n",
      "  12.   12.5  13.   13.5  14.   14.5  15.   15.5]\n"
     ]
    },
    {
     "data": {
      "image/png": "[encoded data removed]",
      "text/plain": [
       "<matplotlib.figure.Figure at 0x81300f0>"
      ]
     },
     "metadata": {},
     "output_type": "display_data"
    }
   ],
   "source": [
    "from matplotlib import pylab as plt\n",
    "\n",
    "x = np.arange(0, 16, 0.5)\n",
    "print x\n",
    "f = np.sin(x / 5) * np.exp(x / 10) + 5 * np.exp(-x / 2)\n",
    "y = -0.18692825 * x + 3.43914511\n",
    "plt.plot(x, f)\n",
    "plt.plot(x, y)\n",
    "plt.show()"
   ]
  },
  {
   "cell_type": "code",
   "execution_count": 167,
   "metadata": {
    "collapsed": false
   },
   "outputs": [
    {
     "data": {
      "text/plain": [
       "array([ 3.32512949, -0.06531159, -0.00760104])"
      ]
     },
     "execution_count": 167,
     "metadata": {},
     "output_type": "execute_result"
    }
   ],
   "source": [
    "a = np.array([[1., 1, 1], [1, 8, 64], [1, 15, 225]])\n",
    "b = np.array([3.25221686527, 2.31617015905, 0.635221419579])\n",
    "result = scipy.linalg.solve(a, b)\n",
    "result"
   ]
  },
  {
   "cell_type": "code",
   "execution_count": 168,
   "metadata": {
    "collapsed": false
   },
   "outputs": [
    {
     "data": {
      "image/png": "[encoded data removed]",
      "text/plain": [
       "<matplotlib.figure.Figure at 0x96dff60>"
      ]
     },
     "metadata": {},
     "output_type": "display_data"
    }
   ],
   "source": [
    "x = np.arange(0, 16, 0.5)\n",
    "y = -0.00760104 * (x ** 2) -0.06531159 * x + 3.32512949\n",
    "plt.plot(x, f)\n",
    "plt.plot(x, y)\n",
    "plt.show()\n"
   ]
  },
  {
   "cell_type": "code",
   "execution_count": 169,
   "metadata": {
    "collapsed": false
   },
   "outputs": [
    {
     "data": {
      "text/plain": [
       "array([ 4.36264154, -1.29552587,  0.19333685, -0.00823565])"
      ]
     },
     "execution_count": 169,
     "metadata": {},
     "output_type": "execute_result"
    }
   ],
   "source": [
    "a = np.array([[1., 1, 1, 1], [1, 4, 16, 64], [1, 10, 100, 1000], [1, 15, 225, 3375]])\n",
    "b = np.array([3.25221686527, 1.74684594959, 2.505416407, 0.635221419579])\n",
    "result = scipy.linalg.solve(a, b)\n",
    "result"
   ]
  },
  {
   "cell_type": "code",
   "execution_count": 170,
   "metadata": {
    "collapsed": false
   },
   "outputs": [
    {
     "data": {
      "image/png": "[encoded data removed]",
      "text/plain": [
       "<matplotlib.figure.Figure at 0x83e0898>"
      ]
     },
     "metadata": {},
     "output_type": "display_data"
    }
   ],
   "source": [
    "x = np.arange(0, 16, 0.5)\n",
    "y = -0.00823565 * (x ** 3) + 0.19333685 * (x**2) -1.29552587 * x + 4.36264154\n",
    "\n",
    "plt.plot(x, f)\n",
    "plt.plot(x, y)\n",
    "plt.show()"
   ]
  },
  {
   "cell_type": "code",
   "execution_count": 119,
   "metadata": {
    "collapsed": false
   },
   "outputs": [],
   "source": [
    "def complicatedFunction(x):\n",
    "    f = np.sin(x / 5) * np.exp(x / 10) + 5 * np.exp(-x / 2)\n",
    "    return f"
   ]
  },
  {
   "cell_type": "code",
   "execution_count": 123,
   "metadata": {
    "collapsed": false
   },
   "outputs": [
    {
     "name": "stdout",
     "output_type": "stream",
     "text": [
      "f(1)=1.83939720586\n",
      "f(4)=0.676676416183\n",
      "f(8)=0.933049179252\n",
      "f(10)=2.505416407\n",
      "f(15)=0.385281266681\n"
     ]
    }
   ],
   "source": [
    "print('f(1)=' + str(complicatedFunction(1)))\n",
    "print('f(4)=' + str(complicatedFunction(4)))\n",
    "print('f(8)=' + str(complicatedFunction(8)))\n",
    "print('f(10)=' + str(complicatedFunction(10)))\n",
    "print('f(15)=' + str(complicatedFunction(15)))"
   ]
  },
  {
   "cell_type": "code",
   "execution_count": null,
   "metadata": {
    "collapsed": true
   },
   "outputs": [],
   "source": []
  }
 ],
 "metadata": {
  "anaconda-cloud": {},
  "kernelspec": {
   "display_name": "Python [default]",
   "language": "python",
   "name": "python2"
  },
  "language_info": {
   "codemirror_mode": {
    "name": "ipython",
    "version": 2
   },
   "file_extension": ".py",
   "mimetype": "text/x-python",
   "name": "python",
   "nbconvert_exporter": "python",
   "pygments_lexer": "ipython2",
   "version": "2.7.12"
  }
 },
 "nbformat": 4,
 "nbformat_minor": 1
}
