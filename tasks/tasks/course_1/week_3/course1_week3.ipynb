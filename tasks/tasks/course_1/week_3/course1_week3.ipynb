{
 "cells": [
  {
   "cell_type": "markdown",
   "metadata": {},
   "source": [
    "# Оптимизация в Python: глобальная оптимизация и оптимизация негладкой функции"
   ]
  },
  {
   "cell_type": "markdown",
   "metadata": {},
   "source": [
    "### Задача 1. Минимизация гладкой функции"
   ]
  },
  {
   "cell_type": "code",
   "execution_count": 2,
   "metadata": {
    "collapsed": false
   },
   "outputs": [],
   "source": [
    "import math as m\n"
   ]
  },
  {
   "cell_type": "code",
   "execution_count": 20,
   "metadata": {
    "collapsed": true
   },
   "outputs": [],
   "source": [
    "import numpy as np\n",
    "def evalFunctionValue(x):\n",
    "    return np.sin(x / 5.) * np.exp(x / 10.) + 5 * np.exp(-x / 2.)"
   ]
  },
  {
   "cell_type": "code",
   "execution_count": null,
   "metadata": {
    "collapsed": true
   },
   "outputs": [],
   "source": []
  },
  {
   "cell_type": "code",
   "execution_count": 43,
   "metadata": {
    "collapsed": false
   },
   "outputs": [
    {
     "name": "stdout",
     "output_type": "stream",
     "text": [
      "-11.898894666\n"
     ]
    }
   ],
   "source": [
    "print evalFunctionValue(25.88019265)"
   ]
  },
  {
   "cell_type": "code",
   "execution_count": 24,
   "metadata": {
    "collapsed": false
   },
   "outputs": [
    {
     "name": "stdout",
     "output_type": "stream",
     "text": [
      "[  1.    1.5   2.    2.5   3.    3.5   4.    4.5   5.    5.5   6.    6.5\n",
      "   7.    7.5   8.    8.5   9.    9.5  10.   10.5  11.   11.5  12.   12.5\n",
      "  13.   13.5  14.   14.5  15.   15.5  16.   16.5  17.   17.5  18.   18.5\n",
      "  19.   19.5  20.   20.5  21.   21.5  22.   22.5  23.   23.5  24.   24.5\n",
      "  25.   25.5  26.   26.5  27.   27.5  28.   28.5  29.   29.5  30.   30.5]\n"
     ]
    },
    {
     "data": {
      "image/png": "[encoded data removed]",
      "text/plain": [
       "<matplotlib.figure.Figure at 0x785d278>"
      ]
     },
     "metadata": {},
     "output_type": "display_data"
    }
   ],
   "source": [
    "from matplotlib import pylab as plt\n",
    "\n",
    "x = np.arange(1, 31, 0.5)\n",
    "print x\n",
    "y = evalFunctionValue(x)\n",
    "plt.plot(x, y)\n",
    "plt.show()"
   ]
  },
  {
   "cell_type": "code",
   "execution_count": 44,
   "metadata": {
    "collapsed": false,
    "scrolled": true
   },
   "outputs": [
    {
     "name": "stdout",
     "output_type": "stream",
     "text": [
      "      fun: -11.89889466596626\n",
      " hess_inv: array([[ 1.67418754]])\n",
      "      jac: array([ -4.29153442e-06])\n",
      "  message: 'Optimization terminated successfully.'\n",
      "     nfev: 15\n",
      "      nit: 4\n",
      "     njev: 5\n",
      "   status: 0\n",
      "  success: True\n",
      "        x: array([ 25.88018592])\n"
     ]
    }
   ],
   "source": [
    "from scipy.optimize import minimize\n",
    "\n",
    "def f(x):\n",
    "    return np.sin(x / 5.) * np.exp(x / 10.) + 5 * np.exp(-x / 2.)\n",
    "min = minimize(f, 25, method='BFGS')\n",
    "print min\n",
    "\n",
    "#можно сдлеать вывод, что по-умолчанию Minimize возвращает локальный минимум в зависимости от параметра который передается в метод.\n",
    "#first answer: 1.74526829034 ~ 1.75\n",
    "#second: -11.8988946549 ~ -11.9\n"
   ]
  },
  {
   "cell_type": "markdown",
   "metadata": {},
   "source": [
    "### Задача 2. Глобальная оптимизация"
   ]
  },
  {
   "cell_type": "code",
   "execution_count": 47,
   "metadata": {
    "collapsed": false
   },
   "outputs": [
    {
     "name": "stdout",
     "output_type": "stream",
     "text": [
      "     fun: array([-11.89889467])\n",
      "     jac: array([  1.77635684e-07])\n",
      " message: 'Optimization terminated successfully.'\n",
      "    nfev: 68\n",
      "     nit: 3\n",
      " success: True\n",
      "       x: array([ 25.88019342])\n"
     ]
    }
   ],
   "source": [
    "#using method of differential evolution\n",
    "from scipy.optimize import differential_evolution\n",
    "min = differential_evolution(f, [(1,30)])\n",
    "print min"
   ]
  },
  {
   "cell_type": "markdown",
   "metadata": {},
   "source": [
    "### Задача 3. Минимизация негладкой функции"
   ]
  },
  {
   "cell_type": "code",
   "execution_count": 51,
   "metadata": {
    "collapsed": false
   },
   "outputs": [
    {
     "data": {
      "image/png": "[encoded data removed]",
      "text/plain": [
       "<matplotlib.figure.Figure at 0x92f4c50>"
      ]
     },
     "metadata": {},
     "output_type": "display_data"
    }
   ],
   "source": [
    "def funcH(x):\n",
    "    return int(evalFunctionValue(x))\n",
    "def prepareHvalues():\n",
    "    result = []\n",
    "    for n in np.arange(1, 31, 1):\n",
    "        result.append(funcH(n))\n",
    "    return result\n",
    "    \n",
    "x = np.arange(1, 31, 1)\n",
    "y = prepareHvalues()\n",
    "\n",
    "plt.plot(x, y)\n",
    "plt.show()"
   ]
  },
  {
   "cell_type": "code",
   "execution_count": 59,
   "metadata": {
    "collapsed": false
   },
   "outputs": [
    {
     "name": "stdout",
     "output_type": "stream",
     "text": [
      "      fun: -8\n",
      " hess_inv: array([[1]])\n",
      "      jac: array([ 0.])\n",
      "  message: 'Optimization terminated successfully.'\n",
      "     nfev: 3\n",
      "      nit: 0\n",
      "     njev: 1\n",
      "   status: 0\n",
      "  success: True\n",
      "        x: array([ 22.])\n"
     ]
    }
   ],
   "source": [
    "min = minimize(funcH, 22, method='BFGS')\n",
    "print min"
   ]
  },
  {
   "cell_type": "code",
   "execution_count": 54,
   "metadata": {
    "collapsed": false
   },
   "outputs": [
    {
     "name": "stdout",
     "output_type": "stream",
     "text": [
      "     fun: -11.0\n",
      " message: 'Optimization terminated successfully.'\n",
      "    nfev: 107\n",
      "     nit: 6\n",
      " success: True\n",
      "       x: array([ 27.49500402])\n"
     ]
    }
   ],
   "source": [
    "dif_min = differential_evolution(funcH, [(1, 30)])\n",
    "print dif_min"
   ]
  },
  {
   "cell_type": "code",
   "execution_count": null,
   "metadata": {
    "collapsed": true
   },
   "outputs": [],
   "source": []
  }
 ],
 "metadata": {
  "kernelspec": {
   "display_name": "Python [default]",
   "language": "python",
   "name": "python2"
  },
  "language_info": {
   "codemirror_mode": {
    "name": "ipython",
    "version": 2
   },
   "file_extension": ".py",
   "mimetype": "text/x-python",
   "name": "python",
   "nbconvert_exporter": "python",
   "pygments_lexer": "ipython2",
   "version": "2.7.12"
  }
 },
 "nbformat": 4,
 "nbformat_minor": 1
}
